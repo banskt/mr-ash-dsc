{
 "cells": [
  {
   "cell_type": "code",
   "execution_count": 1,
   "metadata": {},
   "outputs": [],
   "source": [
    "import pandas as pd\n",
    "import numpy as np\n",
    "import pickle\n",
    "import sys\n",
    "import os\n",
    "\n",
    "import rpy2.robjects as robj\n",
    "import rpy2.robjects.vectors as rvec\n",
    "from rpy2.robjects.packages import importr \n",
    "from rpy2.robjects.conversion import localconverter\n",
    "from rpy2.robjects import numpy2ri\n",
    "numpy2ri.activate()\n",
    "from rpy2.robjects import pandas2ri\n",
    "pandas2ri.activate()\n",
    "\n",
    "import dsc\n",
    "from dsc import dsc_io\n",
    "from dsc.query_engine import Query_Processor as dscQP"
   ]
  },
  {
   "cell_type": "code",
   "execution_count": 2,
   "metadata": {},
   "outputs": [],
   "source": [
    "target = [\"simulate\", \"fit\", \"mse.err\", \"simulate.se\"]\n",
    "condition = [\"simulate.sfrac == 0.5\", \"simulate.dims == '(500,200)'\",\n",
    "             \"simulate.pve == 0.5\", \"simulate.rho == 0.0\"]\n",
    "groups = None"
   ]
  },
  {
   "cell_type": "code",
   "execution_count": 3,
   "metadata": {},
   "outputs": [],
   "source": [
    "dsc_output = \"../dsc/dsc_result\""
   ]
  },
  {
   "cell_type": "code",
   "execution_count": 4,
   "metadata": {},
   "outputs": [
    {
     "name": "stderr",
     "output_type": "stream",
     "text": [
      "INFO: Note: NumExpr detected 16 cores but \"NUMEXPR_MAX_THREADS\" not set, so enforcing safe limit of 8.\n",
      "INFO: NumExpr defaulting to 8 threads.\n"
     ]
    }
   ],
   "source": [
    "db = os.path.join(dsc_output, os.path.basename(os.path.normpath(dsc_output)) + \".db\")\n",
    "qp = dscQP(db, target, condition, groups)"
   ]
  },
  {
   "cell_type": "code",
   "execution_count": 5,
   "metadata": {},
   "outputs": [],
   "source": [
    "method = 'varbvs'\n",
    "qpout = qp.output_table\n",
    "methodout = qpout.loc[qpout['fit'] == method]\n",
    "outfilenames = list(methodout.loc[:, \"fit.output.file\"])"
   ]
  },
  {
   "cell_type": "code",
   "execution_count": 6,
   "metadata": {},
   "outputs": [
    {
     "data": {
      "text/plain": [
       "{'user.self': 0.3860000000000001,\n",
       " 'sys.self': 0.012999999999999998,\n",
       " 'elapsed': 0.399,\n",
       " 'user.child': 0.0,\n",
       " 'sys.child': 0.0}"
      ]
     },
     "execution_count": 6,
     "metadata": {},
     "output_type": "execute_result"
    }
   ],
   "source": [
    "dscout = dsc_io.load_dsc(os.path.join(dsc_output, outfilenames[0] + '.rds'))\n",
    "\n",
    "dscout['DSC_DEBUG']['time']"
   ]
  },
  {
   "cell_type": "code",
   "execution_count": 8,
   "metadata": {},
   "outputs": [
    {
     "data": {
      "text/html": [
       "<div>\n",
       "<style scoped>\n",
       "    .dataframe tbody tr th:only-of-type {\n",
       "        vertical-align: middle;\n",
       "    }\n",
       "\n",
       "    .dataframe tbody tr th {\n",
       "        vertical-align: top;\n",
       "    }\n",
       "\n",
       "    .dataframe thead th {\n",
       "        text-align: right;\n",
       "    }\n",
       "</style>\n",
       "<table border=\"1\" class=\"dataframe\">\n",
       "  <thead>\n",
       "    <tr style=\"text-align: right;\">\n",
       "      <th></th>\n",
       "      <th>0</th>\n",
       "    </tr>\n",
       "  </thead>\n",
       "  <tbody>\n",
       "    <tr>\n",
       "      <th>0</th>\n",
       "      <td>R version 4.0.3 (2020-10-10)</td>\n",
       "    </tr>\n",
       "    <tr>\n",
       "      <th>1</th>\n",
       "      <td>Platform: x86_64-pc-linux-gnu (64-bit)</td>\n",
       "    </tr>\n",
       "    <tr>\n",
       "      <th>2</th>\n",
       "      <td>Running under: Ubuntu 20.04.2 LTS</td>\n",
       "    </tr>\n",
       "    <tr>\n",
       "      <th>3</th>\n",
       "      <td></td>\n",
       "    </tr>\n",
       "    <tr>\n",
       "      <th>4</th>\n",
       "      <td>Matrix products: default</td>\n",
       "    </tr>\n",
       "    <tr>\n",
       "      <th>5</th>\n",
       "      <td>BLAS/LAPACK: /opt/intel/compilers_and_librarie...</td>\n",
       "    </tr>\n",
       "    <tr>\n",
       "      <th>6</th>\n",
       "      <td></td>\n",
       "    </tr>\n",
       "    <tr>\n",
       "      <th>7</th>\n",
       "      <td>locale:</td>\n",
       "    </tr>\n",
       "    <tr>\n",
       "      <th>8</th>\n",
       "      <td>[1] LC_CTYPE=en_US.UTF-8       LC_NUMERIC=C  ...</td>\n",
       "    </tr>\n",
       "    <tr>\n",
       "      <th>9</th>\n",
       "      <td>[3] LC_TIME=en_US.UTF-8        LC_COLLATE=en_...</td>\n",
       "    </tr>\n",
       "    <tr>\n",
       "      <th>10</th>\n",
       "      <td>[5] LC_MONETARY=en_US.UTF-8    LC_MESSAGES=en...</td>\n",
       "    </tr>\n",
       "    <tr>\n",
       "      <th>11</th>\n",
       "      <td>[7] LC_PAPER=en_US.UTF-8       LC_NAME=C     ...</td>\n",
       "    </tr>\n",
       "    <tr>\n",
       "      <th>12</th>\n",
       "      <td>[9] LC_ADDRESS=C               LC_TELEPHONE=C...</td>\n",
       "    </tr>\n",
       "    <tr>\n",
       "      <th>13</th>\n",
       "      <td>[11] LC_MEASUREMENT=en_US.UTF-8 LC_IDENTIFICAT...</td>\n",
       "    </tr>\n",
       "    <tr>\n",
       "      <th>14</th>\n",
       "      <td></td>\n",
       "    </tr>\n",
       "    <tr>\n",
       "      <th>15</th>\n",
       "      <td>attached base packages:</td>\n",
       "    </tr>\n",
       "    <tr>\n",
       "      <th>16</th>\n",
       "      <td>[1] graphics  grDevices stats     utils     da...</td>\n",
       "    </tr>\n",
       "    <tr>\n",
       "      <th>17</th>\n",
       "      <td></td>\n",
       "    </tr>\n",
       "    <tr>\n",
       "      <th>18</th>\n",
       "      <td>loaded via a namespace (and not attached):</td>\n",
       "    </tr>\n",
       "    <tr>\n",
       "      <th>19</th>\n",
       "      <td>[1] Rcpp_1.0.6          lattice_0.20-41     p...</td>\n",
       "    </tr>\n",
       "    <tr>\n",
       "      <th>20</th>\n",
       "      <td>[4] prettyunits_1.1.1   crayon_1.4.1        r...</td>\n",
       "    </tr>\n",
       "    <tr>\n",
       "      <th>21</th>\n",
       "      <td>[7] grid_4.0.3          R6_2.5.0            j...</td>\n",
       "    </tr>\n",
       "    <tr>\n",
       "      <th>22</th>\n",
       "      <td>[10] lifecycle_1.0.0     varbvs_2.6-5        r...</td>\n",
       "    </tr>\n",
       "    <tr>\n",
       "      <th>23</th>\n",
       "      <td>[13] progress_1.2.2      data.table_1.14.0   l...</td>\n",
       "    </tr>\n",
       "    <tr>\n",
       "      <th>24</th>\n",
       "      <td>[16] Matrix_1.2-18       vctrs_0.3.6         r...</td>\n",
       "    </tr>\n",
       "    <tr>\n",
       "      <th>25</th>\n",
       "      <td>[19] ellipsis_0.3.1      nor1mix_1.3-0       R...</td>\n",
       "    </tr>\n",
       "    <tr>\n",
       "      <th>26</th>\n",
       "      <td>[22] tools_4.0.3         jpeg_0.1-8.1        h...</td>\n",
       "    </tr>\n",
       "    <tr>\n",
       "      <th>27</th>\n",
       "      <td>[25] yaml_2.2.1          compiler_4.0.3      p...</td>\n",
       "    </tr>\n",
       "    <tr>\n",
       "      <th>28</th>\n",
       "      <td>[28] dscrutils_0.4.3.5</td>\n",
       "    </tr>\n",
       "  </tbody>\n",
       "</table>\n",
       "</div>"
      ],
      "text/plain": [
       "                                                    0\n",
       "0                        R version 4.0.3 (2020-10-10)\n",
       "1              Platform: x86_64-pc-linux-gnu (64-bit)\n",
       "2                   Running under: Ubuntu 20.04.2 LTS\n",
       "3                                                    \n",
       "4                            Matrix products: default\n",
       "5   BLAS/LAPACK: /opt/intel/compilers_and_librarie...\n",
       "6                                                    \n",
       "7                                             locale:\n",
       "8    [1] LC_CTYPE=en_US.UTF-8       LC_NUMERIC=C  ...\n",
       "9    [3] LC_TIME=en_US.UTF-8        LC_COLLATE=en_...\n",
       "10   [5] LC_MONETARY=en_US.UTF-8    LC_MESSAGES=en...\n",
       "11   [7] LC_PAPER=en_US.UTF-8       LC_NAME=C     ...\n",
       "12   [9] LC_ADDRESS=C               LC_TELEPHONE=C...\n",
       "13  [11] LC_MEASUREMENT=en_US.UTF-8 LC_IDENTIFICAT...\n",
       "14                                                   \n",
       "15                            attached base packages:\n",
       "16  [1] graphics  grDevices stats     utils     da...\n",
       "17                                                   \n",
       "18         loaded via a namespace (and not attached):\n",
       "19   [1] Rcpp_1.0.6          lattice_0.20-41     p...\n",
       "20   [4] prettyunits_1.1.1   crayon_1.4.1        r...\n",
       "21   [7] grid_4.0.3          R6_2.5.0            j...\n",
       "22  [10] lifecycle_1.0.0     varbvs_2.6-5        r...\n",
       "23  [13] progress_1.2.2      data.table_1.14.0   l...\n",
       "24  [16] Matrix_1.2-18       vctrs_0.3.6         r...\n",
       "25  [19] ellipsis_0.3.1      nor1mix_1.3-0       R...\n",
       "26  [22] tools_4.0.3         jpeg_0.1-8.1        h...\n",
       "27  [25] yaml_2.2.1          compiler_4.0.3      p...\n",
       "28                           [28] dscrutils_0.4.3.5  "
      ]
     },
     "execution_count": 8,
     "metadata": {},
     "output_type": "execute_result"
    }
   ],
   "source": [
    "pd.DataFrame(dscout['DSC_DEBUG']['session'])"
   ]
  },
  {
   "cell_type": "code",
   "execution_count": 14,
   "metadata": {},
   "outputs": [
    {
     "name": "stdout",
     "output_type": "stream",
     "text": [
      "## r script UUID: 31375969\n",
      "\n",
      "DSC_2B97E961 <- list()\n",
      "DSC_2B97E961 <- dscrutils:::load_inputs(c('dsc_result/indepgauss/indepgauss_6.pkl'), dscrutils:::read_dsc)\n",
      "DSC_REPLICATE <- DSC_2B97E961$DSC_DEBUG$replicate\n",
      "DSC_SEED <- ifelse(is.null(DSC_2B97E961$DSC_DEBUG$seed), 31375969, DSC_2B97E961$DSC_DEBUG$seed) + 5\n",
      "X <- DSC_2B97E961$X\n",
      "y <- DSC_2B97E961$y\n",
      "dscrutils:::source_dirs(c('functions'))\n",
      "TIC_2B97E961 <- proc.time()\n",
      "DSC_SEED <- DSC_SEED + DSC_REPLICATE\n",
      "set.seed(DSC_SEED)\n",
      "\n",
      "## BEGIN DSC CORE\n",
      "out <- fit_varbvs(X, as.vector(y))\n",
      "## END DSC CORE\n",
      "\n",
      "saveRDS(list(intercept=out$mu, beta_est=out$beta, model=out, DSC_DEBUG=dscrutils:::save_session(TIC_2B97E961, DSC_REPLICATE, DSC_SEED)), 'dsc_result/varbvs/indepgauss_6_varbvs_1.rds')\n",
      "\n",
      "\n",
      "\n"
     ]
    }
   ],
   "source": [
    "print(pd.DataFrame(dscout['DSC_DEBUG']['script']).loc[0, 0])"
   ]
  },
  {
   "cell_type": "code",
   "execution_count": null,
   "metadata": {},
   "outputs": [],
   "source": []
  }
 ],
 "metadata": {
  "kernelspec": {
   "display_name": "Python 3",
   "language": "python",
   "name": "python3"
  },
  "language_info": {
   "codemirror_mode": {
    "name": "ipython",
    "version": 3
   },
   "file_extension": ".py",
   "mimetype": "text/x-python",
   "name": "python",
   "nbconvert_exporter": "python",
   "pygments_lexer": "ipython3",
   "version": "3.9.0"
  }
 },
 "nbformat": 4,
 "nbformat_minor": 4
}
